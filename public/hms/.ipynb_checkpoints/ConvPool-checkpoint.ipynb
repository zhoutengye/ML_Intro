{
 "cells": [
  {
   "cell_type": "code",
   "execution_count": 66,
   "metadata": {},
   "outputs": [],
   "source": [
    "import numpy as np\n",
    "import matplotlib.pyplot as plt\n",
    "plt.rcParams['figure.figsize'] = [12, 8]"
   ]
  },
  {
   "cell_type": "markdown",
   "metadata": {},
   "source": [
    "# 生成棋盘状的图片A和B，其中A和B错列\n",
    "白色值为0，黑色值为1，若使用公式\n",
    "\n",
    "$$d=\\frac{1}{n^2}\\left |\\Sigma{A_{i,j}-B_{i,j}} \\right |$$\n",
    "\n",
    "计算图片A和B的距离，每个像素点上的A和B差值均为1，距离$d=1$。在此定义下，再也找不出两张图片距离更远了。"
   ]
  },
  {
   "cell_type": "code",
   "execution_count": 85,
   "metadata": {},
   "outputs": [],
   "source": [
    "n = 32\n",
    "A = np.zeros([n,n])\n",
    "B = np.zeros([n,n])\n",
    "A[::2,::2]=1\n",
    "A[1::2,1::2]=1\n",
    "B[1::2,::2]=1\n",
    "B[::2,1::2]=1"
   ]
  },
  {
   "cell_type": "code",
   "execution_count": 92,
   "metadata": {},
   "outputs": [
    {
     "name": "stdout",
     "output_type": "stream",
     "text": [
      "图片A1和B1距离为 [1.]\n"
     ]
    },
    {
     "data": {
      "image/png": "[encoded data removed]",
      "text/plain": [
       "<Figure size 864x576 with 2 Axes>"
      ]
     },
     "metadata": {
      "needs_background": "light"
     },
     "output_type": "display_data"
    }
   ],
   "source": [
    "plt.subplot(121)\n",
    "plt.imshow(A,cmap='gray', vmin=0, vmax=1)\n",
    "plt.subplot(122)\n",
    "plt.imshow(B,cmap='gray', vmin=0, vmax=1)\n",
    "d = np.sum(np.abs(A-B))  / np.shape(A[0]) / np.shape(A[1])\n",
    "print(\"图片A1和B1距离为\",d)"
   ]
  },
  {
   "cell_type": "markdown",
   "metadata": {},
   "source": [
    "# 进行卷积操作\n",
    "使用简单的平均卷积核进行卷积操作\n",
    "\n",
    "$$s_{1_{i,j}} = \\frac{1}{9} \\Sigma_{i-1}^{i+1}\\Sigma_{j-1}^{j+1}s_{i,j}$$\n",
    "\n",
    "不考虑边缘像素的卷积操作，则每次积过后，图片两个方向维度各减少2。"
   ]
  },
  {
   "cell_type": "code",
   "execution_count": 91,
   "metadata": {},
   "outputs": [
    {
     "name": "stdout",
     "output_type": "stream",
     "text": [
      "图片A1和B1距离为 [0.11111111]\n"
     ]
    },
    {
     "data": {
      "image/png": "[encoded data removed]",
      "text/plain": [
       "<Figure size 864x576 with 2 Axes>"
      ]
     },
     "metadata": {
      "needs_background": "light"
     },
     "output_type": "display_data"
    }
   ],
   "source": [
    "A1 = 1/9*(A[:-2,:-2]+A[:-2,1:-1]+A[:-2,2:] + A[1:-1,:-2]+A[1:-1,1:-1]+A[1:-1,2:] + A[2:,:-2]+A[2:,1:-1]+A[2:,2:])\n",
    "B1 = 1/9*(B[:-2,:-2]+B[:-2,1:-1]+B[:-2,2:] + B[1:-1,:-2]+B[1:-1,1:-1]+B[1:-1,2:] + B[2:,:-2]+B[2:,1:-1]+B[2:,2:])\n",
    "plt.subplot(121)\n",
    "plt.imshow(A1,cmap='gray', vmin=0, vmax=1)\n",
    "plt.subplot(122)\n",
    "plt.imshow(B1,cmap='gray', vmin=0, vmax=1)\n",
    "d = np.sum(np.abs(A1-B1)) / np.shape(A1[0]) / np.shape(A1[1])\n",
    "print(\"图片A1和B1距离为\",d)"
   ]
  },
  {
   "cell_type": "markdown",
   "metadata": {},
   "source": [
    "# 再进行一次卷积操作\n",
    "图片两个方向维度各减少2，距离再一次减小"
   ]
  },
  {
   "cell_type": "code",
   "execution_count": 93,
   "metadata": {},
   "outputs": [
    {
     "name": "stdout",
     "output_type": "stream",
     "text": [
      "图片A2和B2距离为 [0.01234568]\n"
     ]
    },
    {
     "data": {
      "image/png": "[encoded data removed]",
      "text/plain": [
       "<Figure size 864x576 with 2 Axes>"
      ]
     },
     "metadata": {
      "needs_background": "light"
     },
     "output_type": "display_data"
    }
   ],
   "source": [
    "A2 = 1/9*(A1[:-2,:-2]+A1[:-2,1:-1]+A1[:-2,2:] + A1[1:-1,:-2]+A1[1:-1,1:-1]+A1[1:-1,2:] + A1[2:,:-2]+A1[2:,1:-1]+A1[2:,2:])\n",
    "B2 = 1/9*(B1[:-2,:-2]+B1[:-2,1:-1]+B1[:-2,2:] + B1[1:-1,:-2]+B1[1:-1,1:-1]+B1[1:-1,2:] + B1[2:,:-2]+B1[2:,1:-1]+B1[2:,2:])\n",
    "plt.subplot(121)\n",
    "plt.imshow(A2,cmap='gray', vmin=0, vmax=1)\n",
    "plt.subplot(122)\n",
    "plt.imshow(B2,cmap='gray', vmin=0, vmax=1)\n",
    "d = np.sum(np.abs(A2-B2)) / np.shape(A2[0]) / np.shape(A2[1])\n",
    "print(\"图片A2和B2距离为\",d)"
   ]
  },
  {
   "cell_type": "markdown",
   "metadata": {},
   "source": [
    "# 进行池化操作\n",
    "使用简单的平均池化操作，即每个$2\\times2$的像素块取平均值。\n",
    "\n",
    "在这个特殊例子中，一次平均池化后，两张图片完全一样。"
   ]
  },
  {
   "cell_type": "code",
   "execution_count": 89,
   "metadata": {},
   "outputs": [],
   "source": [
    "A3 = A.reshape(int(n/2),2,int(n/2),2).mean(axis=3).mean(axis=1)\n",
    "B3 = B.reshape(int(n/2),2,int(n/2),2).mean(axis=3).mean(axis=1)"
   ]
  },
  {
   "cell_type": "code",
   "execution_count": 95,
   "metadata": {},
   "outputs": [
    {
     "name": "stdout",
     "output_type": "stream",
     "text": [
      "图片A2和B2距离为 [0.]\n"
     ]
    },
    {
     "data": {
      "image/png": "[encoded data removed]",
      "text/plain": [
       "<Figure size 864x576 with 2 Axes>"
      ]
     },
     "metadata": {
      "needs_background": "light"
     },
     "output_type": "display_data"
    }
   ],
   "source": [
    "plt.subplot(121)\n",
    "plt.imshow(A3,cmap='gray', vmin=0, vmax=1)\n",
    "plt.subplot(122)\n",
    "plt.imshow(B3,cmap='gray', vmin=0, vmax=1)\n",
    "d = np.sum(np.abs(A3-B3)) / np.shape(A3[0]) / np.shape(A3[1])\n",
    "print(\"图片A2和B2距离为\",d)"
   ]
  },
  {
   "cell_type": "code",
   "execution_count": null,
   "metadata": {},
   "outputs": [],
   "source": []
  }
 ],
 "metadata": {
  "kernelspec": {
   "display_name": "Python 3",
   "language": "python",
   "name": "python3"
  },
  "language_info": {
   "codemirror_mode": {
    "name": "ipython",
    "version": 3
   },
   "file_extension": ".py",
   "mimetype": "text/x-python",
   "name": "python",
   "nbconvert_exporter": "python",
   "pygments_lexer": "ipython3",
   "version": "3.8.5"
  }
 },
 "nbformat": 4,
 "nbformat_minor": 4
}
